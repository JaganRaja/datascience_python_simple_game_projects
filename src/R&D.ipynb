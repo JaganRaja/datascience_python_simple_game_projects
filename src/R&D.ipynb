{
 "cells": [
  {
   "cell_type": "code",
   "execution_count": 2,
   "metadata": {},
   "outputs": [],
   "source": [
    "#jk"
   ]
  },
  {
   "cell_type": "code",
   "execution_count": 33,
   "metadata": {},
   "outputs": [
    {
     "data": {
      "text/plain": [
       "[' ', ' ', ' ', ' ', ' ', ' ', ' ', ' ', ' ']"
      ]
     },
     "execution_count": 33,
     "metadata": {},
     "output_type": "execute_result"
    }
   ],
   "source": [
    "board = [' ' for _ in range(9)]\n",
    "board"
   ]
  },
  {
   "cell_type": "code",
   "execution_count": 22,
   "metadata": {},
   "outputs": [
    {
     "name": "stdout",
     "output_type": "stream",
     "text": [
      "|   |   |   |\n",
      "|   |   |   |\n",
      "|   |   |   |\n"
     ]
    }
   ],
   "source": [
    "for row in [board[i*3:(i+1)*3] for i in range(3)]:\n",
    "    #print(row)\n",
    "    print('| ' + ' | '.join(row) + ' |')"
   ]
  },
  {
   "cell_type": "code",
   "execution_count": 19,
   "metadata": {},
   "outputs": [
    {
     "name": "stdout",
     "output_type": "stream",
     "text": [
      "0\n",
      "[' ', ' ', ' ']\n",
      "1\n",
      "[' ', ' ', ' ']\n",
      "2\n",
      "[' ', ' ', ' ']\n",
      "[[' ', ' ', ' '], [' ', ' ', ' '], [' ', ' ', ' ']]\n"
     ]
    }
   ],
   "source": [
    "my_list = []\n",
    "for i in range(3):\n",
    "    print(i)\n",
    "    print(board[i*3:(i+1)*3])\n",
    "    my_list.append(board[i*3:(i+1)*3])\n",
    "print(my_list)\n",
    "\n"
   ]
  },
  {
   "cell_type": "code",
   "execution_count": 31,
   "metadata": {},
   "outputs": [
    {
     "name": "stdout",
     "output_type": "stream",
     "text": [
      "[' ', ' ', ' ']\n",
      "[' ', ' ', ' ']\n",
      "[' ', ' ', ' ']\n",
      "|   |   |   |\n",
      "|   |   |   |\n",
      "|   |   |   |\n"
     ]
    }
   ],
   "source": [
    "for row in my_list:\n",
    "    print(row)\n",
    "\n",
    "for row in my_list:\n",
    "    #print('| ' + ' | ' .join(row))\n",
    "    print('| ' + ' | '.join(row) + ' |')"
   ]
  },
  {
   "cell_type": "code",
   "execution_count": 19,
   "metadata": {},
   "outputs": [
    {
     "name": "stdout",
     "output_type": "stream",
     "text": [
      "[['0', '1', '2'], ['3', '4', '5'], ['6', '7', '8']]\n",
      "| 0 | 1 | 2 |\n",
      "| 3 | 4 | 5 |\n",
      "| 6 | 7 | 8 |\n"
     ]
    }
   ],
   "source": [
    "def print_board_nums():\n",
    "    # 0 | 1 | 2 etc (tells us what number corresponds to what box)\n",
    "    number_board = [[str(i) for i in range(j*3, (j+1)*3)]\n",
    "                    for j in range(3)]\n",
    "    print(number_board)\n",
    "    for row in number_board:\n",
    "        print('| ' + ' | '.join(row) + ' |')\n",
    "print_board_nums()"
   ]
  },
  {
   "cell_type": "code",
   "execution_count": 8,
   "metadata": {},
   "outputs": [
    {
     "name": "stdout",
     "output_type": "stream",
     "text": [
      "j is 0\n",
      "j is 1\n",
      "j is 2\n"
     ]
    },
    {
     "data": {
      "text/plain": [
       "[['0', '1', '2'], ['3', '4', '5'], ['6', '7', '8']]"
      ]
     },
     "execution_count": 8,
     "metadata": {},
     "output_type": "execute_result"
    }
   ],
   "source": [
    "big_list = []\n",
    "for j in range(3):\n",
    "    print(f\"j is {j}\")\n",
    "    small_list = []\n",
    "    for i in range(j*3, (j+1)*3):\n",
    "        small_list.append(str(i))\n",
    "        #print(str(i))\n",
    "    big_list.append(small_list)\n",
    "big_list"
   ]
  },
  {
   "cell_type": "code",
   "execution_count": 18,
   "metadata": {},
   "outputs": [
    {
     "name": "stdout",
     "output_type": "stream",
     "text": [
      "6\n",
      "6\n",
      "6\n",
      "7\n",
      "7\n",
      "7\n",
      "8\n",
      "8\n",
      "8\n"
     ]
    },
    {
     "data": {
      "text/plain": [
       "[None, None, None, None, None, None, None, None, None]"
      ]
     },
     "execution_count": 18,
     "metadata": {},
     "output_type": "execute_result"
    }
   ],
   "source": [
    "[print(i) for i in range(j*3, (j+1)*3) for j in range(3)]"
   ]
  },
  {
   "cell_type": "code",
   "execution_count": 17,
   "metadata": {},
   "outputs": [
    {
     "data": {
      "text/plain": [
       "[0, 1, 2, 3, 4, 5, 6, 7, 8]"
      ]
     },
     "execution_count": 17,
     "metadata": {},
     "output_type": "execute_result"
    }
   ],
   "source": [
    "my_new_list=[]\n",
    "for j in range(3):\n",
    "    for i in range(j*3, (j+1)*3):\n",
    "        my_new_list.append(i)\n",
    "my_new_list"
   ]
  },
  {
   "cell_type": "code",
   "execution_count": 30,
   "metadata": {},
   "outputs": [
    {
     "name": "stdout",
     "output_type": "stream",
     "text": [
      "number board [['0', '1', '2'], ['3', '4', '5'], ['6', '7', '8']]\n",
      "row: ['0', '1', '2']\n",
      "|0 | 1 | 2 | \n",
      "row: ['3', '4', '5']\n",
      "|3 | 4 | 5 | \n",
      "row: ['6', '7', '8']\n",
      "|6 | 7 | 8 | \n"
     ]
    }
   ],
   "source": [
    "def print_board_nums():\n",
    "    # 0 | 1 | 2 etc (tells us what number corresponds to what box)\n",
    "    number_board = [[str(i) for i in range(j*3, (j+1)*3)]\n",
    "                    for j in range(3)]\n",
    "    print(f\"number board {number_board}\")\n",
    "    for row in number_board:\n",
    "        print(f\"row: {row}\")\n",
    "        #print('| ' + ' | '.join(row) + ' |')\n",
    "        print( '|' + ' | '.join(row) + ' | ')\n",
    "print_board_nums()"
   ]
  },
  {
   "cell_type": "code",
   "execution_count": 34,
   "metadata": {},
   "outputs": [
    {
     "data": {
      "text/plain": [
       "[0, 1, 2, 3, 4, 5, 6, 7, 8]"
      ]
     },
     "execution_count": 34,
     "metadata": {},
     "output_type": "execute_result"
    }
   ],
   "source": [
    "[i for i, spot in enumerate(board) if spot == ' ']"
   ]
  },
  {
   "cell_type": "code",
   "execution_count": 35,
   "metadata": {},
   "outputs": [
    {
     "data": {
      "text/plain": [
       "True"
      ]
     },
     "execution_count": 35,
     "metadata": {},
     "output_type": "execute_result"
    }
   ],
   "source": [
    "' ' in board"
   ]
  },
  {
   "cell_type": "code",
   "execution_count": 37,
   "metadata": {},
   "outputs": [
    {
     "data": {
      "text/plain": [
       "['x', ' ', 'o', ' ', ' ', 'o', ' ', 'x', ' ']"
      ]
     },
     "execution_count": 37,
     "metadata": {},
     "output_type": "execute_result"
    }
   ],
   "source": [
    "board_new = ['x', ' ', 'o', ' ', ' ', 'o', ' ', 'x', ' ']\n",
    "board_new"
   ]
  },
  {
   "cell_type": "code",
   "execution_count": 40,
   "metadata": {},
   "outputs": [
    {
     "name": "stdout",
     "output_type": "stream",
     "text": [
      "| x |   | o |\n",
      "|   |   | o |\n",
      "|   | x |   |\n"
     ]
    }
   ],
   "source": [
    "for row in [board_new[i*3:(i+1)*3] for i in range(3)]:\n",
    "    #print(row)\n",
    "    print('| ' + ' | '.join(row) + ' |')"
   ]
  },
  {
   "cell_type": "code",
   "execution_count": null,
   "metadata": {},
   "outputs": [],
   "source": [
    "all([spot == letter for spot in row])"
   ]
  },
  {
   "cell_type": "code",
   "execution_count": 47,
   "metadata": {},
   "outputs": [
    {
     "data": {
      "text/plain": [
       "[True, False, True, False, True, False]"
      ]
     },
     "execution_count": 47,
     "metadata": {},
     "output_type": "execute_result"
    }
   ],
   "source": [
    "[spot % 2 == 0 for spot in range(6)]"
   ]
  },
  {
   "cell_type": "code",
   "execution_count": 48,
   "metadata": {},
   "outputs": [
    {
     "data": {
      "text/plain": [
       "False"
      ]
     },
     "execution_count": 48,
     "metadata": {},
     "output_type": "execute_result"
    }
   ],
   "source": [
    "all([spot % 2 == 0 for spot in range(6)])"
   ]
  },
  {
   "cell_type": "code",
   "execution_count": 51,
   "metadata": {},
   "outputs": [
    {
     "name": "stdout",
     "output_type": "stream",
     "text": [
      "i: 0... row_ind: 0\n",
      "i: 1... row_ind: 0\n",
      "i: 2... row_ind: 0\n",
      "i: 3... row_ind: 1\n",
      "i: 4... row_ind: 1\n",
      "i: 5... row_ind: 1\n",
      "i: 6... row_ind: 2\n",
      "i: 7... row_ind: 2\n",
      "i: 8... row_ind: 2\n"
     ]
    }
   ],
   "source": [
    "for i in range(9):\n",
    "    row_ind = i // 3\n",
    "    print(f\"i: {i}... row_ind: {row_ind}\")"
   ]
  },
  {
   "cell_type": "code",
   "execution_count": 2,
   "metadata": {},
   "outputs": [
    {
     "data": {
      "text/plain": [
       "47"
      ]
     },
     "execution_count": 2,
     "metadata": {},
     "output_type": "execute_result"
    }
   ],
   "source": [
    "import random\n",
    "loc = random.randint(0, 10**2 - 1)\n",
    "loc"
   ]
  },
  {
   "cell_type": "code",
   "execution_count": 4,
   "metadata": {},
   "outputs": [
    {
     "data": {
      "text/plain": [
       "4"
      ]
     },
     "execution_count": 4,
     "metadata": {},
     "output_type": "execute_result"
    }
   ],
   "source": [
    "row = loc // 10\n",
    "row"
   ]
  },
  {
   "cell_type": "code",
   "execution_count": 5,
   "metadata": {},
   "outputs": [
    {
     "data": {
      "text/plain": [
       "7"
      ]
     },
     "execution_count": 5,
     "metadata": {},
     "output_type": "execute_result"
    }
   ],
   "source": [
    "loc % 10"
   ]
  },
  {
   "cell_type": "code",
   "execution_count": 6,
   "metadata": {},
   "outputs": [
    {
     "name": "stdout",
     "output_type": "stream",
     "text": [
      "5\n"
     ]
    }
   ],
   "source": [
    "count = 0\n",
    "for i in range(10):\n",
    "    \n",
    "    if i % 2 ==0:\n",
    "        continue\n",
    "    count += 1\n",
    "print(count)"
   ]
  },
  {
   "cell_type": "code",
   "execution_count": 7,
   "metadata": {},
   "outputs": [
    {
     "name": "stdout",
     "output_type": "stream",
     "text": [
      "5\n"
     ]
    }
   ],
   "source": [
    "count = 0\n",
    "i = 0\n",
    "while i < 10:\n",
    "    i += 1\n",
    "    if i % 2 ==0:\n",
    "        continue\n",
    "    count += 1\n",
    "print(count)"
   ]
  },
  {
   "cell_type": "code",
   "execution_count": null,
   "metadata": {},
   "outputs": [],
   "source": []
  }
 ],
 "metadata": {
  "kernelspec": {
   "display_name": "Python 3 (ipykernel)",
   "language": "python",
   "name": "python3"
  },
  "language_info": {
   "codemirror_mode": {
    "name": "ipython",
    "version": 3
   },
   "file_extension": ".py",
   "mimetype": "text/x-python",
   "name": "python",
   "nbconvert_exporter": "python",
   "pygments_lexer": "ipython3",
   "version": "3.8.5"
  }
 },
 "nbformat": 4,
 "nbformat_minor": 4
}
